{
 "cells": [
  {
   "cell_type": "markdown",
   "id": "bdaf6720",
   "metadata": {},
   "source": [
    "<center>\n",
    "<img src='images/logo.jpg' width='300px'>\n",
    "<h2> Chương 3: CÁC PHƯƠNG PHÁP PHÁT HIỆN BIÊN TRONG ẢNH</h2>\n",
    "</center>\n",
    "\n",
    "---\n",
    "* Bài toán phát hiện cạnh, biên (Edge Detection) được ứng dụng rất nhiều trong các bài toán về thị giác máy tính. Như trong các bài toán về trích xuất thông tin, nhận dạng đối tượng….\n",
    "\n",
    "* Biên là nơi mã hóa nhiều thông tin ngữ nghĩa (semantics information) và hình dạng (shape) trong một bức ảnh.\n",
    "\n",
    "* Điểm biên: Một điểm ảnh được coi là điểm biên nếu có sự thay đổi nhanh hoặc đột ngột về mức xám (hoặc màu). Ví dụ: trong ảnh nhị phân, điểm đen được coi là điểm biên nếu lân cận của nó có ít nhất một điểm trắng.\n",
    "* Đường biên còn được gọi là đường bao (boundary): là tập hợp các điểm biên liên tiếp.\n",
    "\n",
    "<img src='images/pic1.png' width='500px'>\n",
    "\n",
    "**Nội dung bài học:**\n",
    "1. Bài toán phát hiện cạnh (Edge detection) và ứng dụng\n",
    "2. Các phương pháp phát hiện biên\n",
    "3. Gradient base (1st order)\n",
    "    1. Sobel edge detection\n",
    "    2. Prewitt edge detection\n",
    "    3. Roberts edge detection\n",
    "4. Laplacian based (2nd order)\n",
    "    1. Laplace edge detection\n",
    "    2. Canny edge detection\n",
    "\n",
    "<img src='images/pp.png' width='600px'>\n",
    "\n",
    "---\n",
    "*Copyright @dangvannam.FIT.HUMG*"
   ]
  },
  {
   "cell_type": "code",
   "execution_count": 1,
   "id": "cfd52668",
   "metadata": {},
   "outputs": [
    {
     "name": "stdout",
     "output_type": "stream",
     "text": [
      "Version OpenCV: 4.9.0\n"
     ]
    }
   ],
   "source": [
    "#Khai báo sử dụng thư viện:\n",
    "import numpy as np\n",
    "import matplotlib.pyplot as plt\n",
    "import cv2\n",
    "print('Version OpenCV:', cv2.__version__)"
   ]
  },
  {
   "cell_type": "code",
   "execution_count": null,
   "id": "562af9b1",
   "metadata": {},
   "outputs": [],
   "source": []
  },
  {
   "cell_type": "markdown",
   "id": "c1981c65",
   "metadata": {},
   "source": [
    "# A. Gradient base (1st order)\n",
    "---\n",
    "1. Sobel edge detection\n",
    "2. Prewitt edge detection\n",
    "3. Robert edge detection\n"
   ]
  },
  {
   "cell_type": "markdown",
   "id": "3fe05e93",
   "metadata": {},
   "source": [
    "## A.1. Sobel edge detection\n",
    "---"
   ]
  },
  {
   "cell_type": "code",
   "execution_count": null,
   "id": "f6a555b5",
   "metadata": {},
   "outputs": [],
   "source": [
    "#Đọc ảnh ở chế độ ảnh xám:\n",
    "img_orignal = \n",
    "\n",
    "#Hiển thị ảnh gốc:\n"
   ]
  },
  {
   "cell_type": "code",
   "execution_count": null,
   "id": "1a00b5c8",
   "metadata": {},
   "outputs": [],
   "source": [
    "#Khởi tạo kernel Sobel theo hướng X:\n",
    "sobel_x = "
   ]
  },
  {
   "cell_type": "code",
   "execution_count": null,
   "id": "09f10859",
   "metadata": {},
   "outputs": [],
   "source": [
    "#Thực hiện lọc ảnh với kernel ở trên:\n",
    "img_x = \n",
    "\n",
    "\n",
    "#Hiển thị ảnh đã xử lý qua bộ lọc:\n",
    "plt.figure(figsize=(10,8))\n"
   ]
  },
  {
   "cell_type": "code",
   "execution_count": null,
   "id": "0fb63b20",
   "metadata": {},
   "outputs": [],
   "source": []
  },
  {
   "cell_type": "code",
   "execution_count": null,
   "id": "1b852d98",
   "metadata": {},
   "outputs": [],
   "source": [
    "#Khởi tạo kernel sobel theo hướng Y:\n",
    "sobel_y ="
   ]
  },
  {
   "cell_type": "code",
   "execution_count": null,
   "id": "e80b15ce",
   "metadata": {},
   "outputs": [],
   "source": [
    "#Thực hiện lọc ảnh với kernel ở trên:\n",
    "img_y = \n",
    "\n",
    "#Hiển thị ảnh đã xử lý qua bộ lọc:\n",
    "plt.figure(figsize=(10,8))\n",
    "\n",
    "\n"
   ]
  },
  {
   "cell_type": "code",
   "execution_count": null,
   "id": "7cf8abca",
   "metadata": {},
   "outputs": [],
   "source": [
    "#kết hợp theo X, Y\n",
    "img_xy = \n",
    "\n",
    "#Hiển thị ảnh đã xử lý qua bộ lọc:\n",
    "plt.figure(figsize=(15,8))\n",
    "\n",
    "\n"
   ]
  },
  {
   "cell_type": "code",
   "execution_count": null,
   "id": "864b16ce",
   "metadata": {},
   "outputs": [],
   "source": []
  },
  {
   "cell_type": "markdown",
   "id": "8454ba7c",
   "metadata": {},
   "source": [
    "#### Sử dụng phương thức Sobel của OpenCV:\n",
    "---\n",
    "**cv2.Sobel(original_image,ddepth,xorder,yorder,kernelsize)**\n",
    "\n",
    "Trong đó:\n",
    "1. Original_image: Ảnh gốc (ảnh xám)\n",
    "2. ddepth: Độ sâu (-1 | cv2.CV_64F)\n",
    "3. xorder: Cạnh theo trục x (=1)\n",
    "4. yorder: Cạnh theo trục y (=1)\n",
    "5. ksize: kích thước kernel sobel (3, 5, 7..)"
   ]
  },
  {
   "cell_type": "code",
   "execution_count": null,
   "id": "c8c2bc50",
   "metadata": {},
   "outputs": [],
   "source": [
    "#Sử dụng phương thức Sobel của OpenCV:\n",
    "\n",
    "\n",
    "#Hiển thị ảnh gốc và ảnh sau khi sử dụng phương thức Sobel:\n",
    "plt.figure(figsize=(15,5))\n",
    "\n",
    "\n"
   ]
  },
  {
   "cell_type": "code",
   "execution_count": null,
   "id": "34fbbd1e",
   "metadata": {},
   "outputs": [],
   "source": []
  },
  {
   "cell_type": "markdown",
   "id": "1c0c9f60",
   "metadata": {},
   "source": [
    "## THỰC HÀNH 3.1\n",
    "---\n",
    "\n",
    "1. Đọc và hiển thị ảnh Thuchanh3_1.jpg ở dạng ảnh xám\n",
    "2. Sử dụng bộ lọc Sobel theo hướng x, y và XY. hiển thị kết quả.\n",
    "3. Sử dụng phương thức Sobel với ksize = 7 theo X, Y và XY. Hiển thị kết quả.\n",
    "\n",
    "<img src='images/Thuchanh3_1.jpg' width='500px'>"
   ]
  },
  {
   "cell_type": "code",
   "execution_count": null,
   "id": "1c2fe295",
   "metadata": {},
   "outputs": [],
   "source": [
    "#{HỌC VIÊN VIẾT CODE VÀO ĐÂY}\n",
    "\n",
    "\n",
    "\n",
    "\n"
   ]
  },
  {
   "cell_type": "code",
   "execution_count": null,
   "id": "e3d1f197",
   "metadata": {},
   "outputs": [],
   "source": []
  },
  {
   "cell_type": "code",
   "execution_count": null,
   "id": "ea0849f1",
   "metadata": {},
   "outputs": [],
   "source": []
  },
  {
   "cell_type": "code",
   "execution_count": null,
   "id": "a6ee1ab3",
   "metadata": {},
   "outputs": [],
   "source": []
  },
  {
   "cell_type": "markdown",
   "id": "95b74e74",
   "metadata": {},
   "source": [
    "## A.2 Prewitt edge detection\n",
    "---"
   ]
  },
  {
   "cell_type": "code",
   "execution_count": null,
   "id": "f01a1eed",
   "metadata": {},
   "outputs": [],
   "source": []
  },
  {
   "cell_type": "code",
   "execution_count": null,
   "id": "d05547d8",
   "metadata": {},
   "outputs": [],
   "source": [
    "#Khởi tạo kernel prewitt theo hướng x:\n",
    "prewitt_x = \n",
    "\n",
    "\n",
    "#Khởi tạo kernel prewitt theo hướng y:\n",
    "prewitt_y = \n",
    "\n"
   ]
  },
  {
   "cell_type": "code",
   "execution_count": null,
   "id": "ce875260",
   "metadata": {},
   "outputs": [],
   "source": [
    "#Thực hiện lọc ảnh với kernel ở trên:\n",
    "img_px = \n",
    "\n",
    "#Thực hiện lọc ảnh với kernel ở trên:\n",
    "img_py =\n",
    "\n",
    "#kết hợp prewitt theo X, Y\n",
    "img_pxy = \n",
    "\n",
    "#Hiển thị ảnh đã xử lý qua bộ lọc:\n",
    "plt.figure(figsize=(15,8))\n",
    "\n",
    "\n",
    "\n",
    "\n",
    "\n"
   ]
  },
  {
   "cell_type": "code",
   "execution_count": null,
   "id": "9ad2ea3e",
   "metadata": {},
   "outputs": [],
   "source": []
  },
  {
   "cell_type": "markdown",
   "id": "a1b7b887",
   "metadata": {},
   "source": [
    "## A.3 Roberts Edge Detection\n",
    "---\n",
    "Bộ lọc Roberts có kích thước 2x2, do Lawrence Roberts đề xuất vào năm 1963, đây là một trong những bộ phát hiện cạnh đầu tiên.\n"
   ]
  },
  {
   "cell_type": "code",
   "execution_count": null,
   "id": "14a2d85c",
   "metadata": {},
   "outputs": [],
   "source": []
  },
  {
   "cell_type": "code",
   "execution_count": null,
   "id": "155b03e1",
   "metadata": {},
   "outputs": [],
   "source": [
    "#Khởi tạo kernel Roberts theo hướng X:\n",
    "roberts_x = \n",
    "\n",
    "\n",
    "#Khởi tạo kernel Roberts theo hướng Y:\n",
    "roberts_y = \n",
    "\n"
   ]
  },
  {
   "cell_type": "code",
   "execution_count": null,
   "id": "d8678230",
   "metadata": {},
   "outputs": [],
   "source": [
    "#Thực hiện lọc ảnh với kernel ở trên:\n",
    "img_rx = \n",
    "\n",
    "#Thực hiện lọc ảnh với kernel ở trên:\n",
    "img_ry = \n",
    "\n",
    "#kết hợp prewitt theo X, Y\n",
    "img_rxy = \n",
    "\n",
    "#Hiển thị ảnh đã xử lý qua bộ lọc:\n",
    "plt.figure(figsize=(15,8))\n",
    "\n",
    "\n",
    "\n",
    "\n",
    "\n"
   ]
  },
  {
   "cell_type": "code",
   "execution_count": null,
   "id": "bc636350",
   "metadata": {},
   "outputs": [],
   "source": []
  },
  {
   "cell_type": "markdown",
   "id": "200957b2",
   "metadata": {},
   "source": [
    "## THỰC HÀNH 3.2\n",
    "---\n",
    "1. Đọc ảnh và hiển thị ảnh Thuchanh3_2.jpeg ở dạng ảnh xám\n",
    "2. Sử dụng bộ lọc Prewitt và Roberts phát hiện cạnh, hiển thị kết quả.\n",
    "3. Sử dụng bộ lọc Robinson (trong Slide) phát hiện cạnh và hiển thị kết quả.\n",
    "\n",
    "<img src='images/Thuchanh3_2.jpeg' width='300px'>"
   ]
  },
  {
   "cell_type": "code",
   "execution_count": null,
   "id": "c06d08ad",
   "metadata": {},
   "outputs": [],
   "source": [
    "#{HỌC VIÊN VIẾT CODE VÀO ĐÂY}\n",
    "\n",
    "\n",
    "\n"
   ]
  },
  {
   "cell_type": "code",
   "execution_count": null,
   "id": "eee55478",
   "metadata": {},
   "outputs": [],
   "source": []
  },
  {
   "cell_type": "code",
   "execution_count": null,
   "id": "fece0d3b",
   "metadata": {},
   "outputs": [],
   "source": []
  },
  {
   "cell_type": "code",
   "execution_count": null,
   "id": "d7e2ce25",
   "metadata": {},
   "outputs": [],
   "source": []
  },
  {
   "cell_type": "markdown",
   "id": "2dec6c21",
   "metadata": {},
   "source": [
    "# B.Laplacian based (2nd order)\n",
    "---\n",
    "1. Laplacen edge detection\n",
    "2. Canny edge detection"
   ]
  },
  {
   "cell_type": "markdown",
   "id": "5171c8c5",
   "metadata": {},
   "source": [
    "## B.1 Laplace edge detection\n",
    "---\n",
    "* Để khắc phục hạn chế và nhược điểm của phương pháp Gradient, trong đó sử dụng đạo hàm riêng bậc nhất người ta nghĩ đến việc sử dụng đạo hàm riêng bậc 2 hay toán tử Laplace.\n",
    "* Phương pháp dò biên theo toán tử Laplace hiệu quả hơn phương pháp toán tử Gradient trong trường hợp mực xám biến đổi chậm, miền chuyển đổi mức xám có độ trải rộng.\n",
    "* Toán tử Laplace dùng nhiều kiểu mặt nạ khác nhau để xấp xỉ rời rạc đạo hàm bậc hai. Ba kiểu mặt nạ hay dung với toán tử Laplace.\n"
   ]
  },
  {
   "cell_type": "code",
   "execution_count": null,
   "id": "1eae03f1",
   "metadata": {},
   "outputs": [],
   "source": []
  },
  {
   "cell_type": "code",
   "execution_count": null,
   "id": "1ebe9adf",
   "metadata": {},
   "outputs": [],
   "source": [
    "#Khởi tạo kernel 1:\n",
    "kernel_lap1 = np.array([[ 0, 1, 0], \n",
    "                        [ 1,-4, 1],\n",
    "                        [ 0,-1, 0]])\n",
    "\n",
    "#Khởi tạo kernel 2:\n",
    "kernel_lap2 = np.array([[-1,-1,-1], \n",
    "                        [-1, 8,-1],\n",
    "                        [-1,-1,-1]])\n",
    "\n",
    "#Khởi tạo kernel 3:\n",
    "kernel_lap3 = np.array([[-1, 2,-1], \n",
    "                        [ 2,-4, 2],\n",
    "                        [-1, 2,-1]])"
   ]
  },
  {
   "cell_type": "code",
   "execution_count": null,
   "id": "99e8b9c9",
   "metadata": {},
   "outputs": [],
   "source": [
    "#Thực hiện lọc ảnh với kernel ở trên:\n",
    "img_lap1 = cv2.filter2D(img_orignal, -1, kernel_lap1)\n",
    "img_lap2 = cv2.filter2D(img_orignal, -1, kernel_lap2)\n",
    "img_lap3 = cv2.filter2D(img_orignal, -1, kernel_lap3)\n",
    "\n",
    "#Hiển thị kết quả:\n",
    "plt.figure(figsize=(14,8))\n",
    "plt.subplot(2,2,1)\n",
    "plt.imshow(img_orignal,cmap='gray')\n",
    "plt.title('Ảnh gốc ban đầu')\n",
    "\n",
    "plt.subplot(2,2,2)\n",
    "plt.imshow(img_lap1,cmap='gray')\n",
    "plt.title('Laplace kernel 1')\n",
    "\n",
    "plt.subplot(2,2,3)\n",
    "plt.imshow(img_lap2,cmap='gray')\n",
    "plt.title('Laplace kernel 2')\n",
    "\n",
    "plt.subplot(2,2,4)\n",
    "plt.imshow(img_lap3,cmap='gray')\n",
    "plt.title('Laplace kernel 3')\n",
    "plt.show()"
   ]
  },
  {
   "cell_type": "code",
   "execution_count": null,
   "id": "721e57c1",
   "metadata": {},
   "outputs": [],
   "source": []
  },
  {
   "cell_type": "markdown",
   "id": "1cdf77b0",
   "metadata": {},
   "source": [
    "## sử dụng phương thức Laplacian của Open CV:\n",
    "---\n",
    "**cv2.Laplacian(src, ddepth, ksize)**\n",
    "\n",
    "Trong đó:\n",
    "1. src: ảnh đầu vào\n",
    "2. ddepth: Độ sâu (-1 | cv2.CV_64F)\n",
    "3. ksize: Kích thước kernel"
   ]
  },
  {
   "cell_type": "code",
   "execution_count": null,
   "id": "0ab2b666",
   "metadata": {},
   "outputs": [],
   "source": [
    "#Sử dụng phương thức Laplacian của OpenCV:\n",
    "\n",
    "\n",
    "\n",
    "\n",
    "#Hiển thị kết quả:\n",
    "plt.figure(figsize=(15,8))\n",
    "\n",
    "\n",
    "\n"
   ]
  },
  {
   "cell_type": "code",
   "execution_count": null,
   "id": "8c271867",
   "metadata": {},
   "outputs": [],
   "source": []
  },
  {
   "cell_type": "markdown",
   "id": "689c95b8",
   "metadata": {},
   "source": [
    "## THỰC HÀNH 3.3\n",
    "---\n",
    "1. Đọc và hiển thị ảnh Thuchanh3_3.png. \n",
    "2. Sử dụng bộ lọc Lapacian trên ảnh nhiễu muối tiêu --> nhận xét kết quả khi lấy biên trên ảnh chưa khử nhiễu!\n",
    "\n",
    "<img src = 'images/Thuchanh3_3.png' width = '300px'>\n",
    "\n",
    "3. Sử dụng phương pháp đã học để khử nhiễu.\n",
    "4. Áp dụng bộ lọc Lapacian trên ảnh đã làm trơn với ddepth = -1|CV_32FC4 và hiển thị kết quả. Xác định kSize phù hợp để cho ra kết quả tốt nhất!"
   ]
  },
  {
   "cell_type": "code",
   "execution_count": null,
   "id": "98569f9e",
   "metadata": {},
   "outputs": [],
   "source": [
    "#{HỌC VIÊN VIẾT CODE Ở ĐÂY}\n"
   ]
  },
  {
   "cell_type": "code",
   "execution_count": null,
   "id": "3e246ef0",
   "metadata": {},
   "outputs": [],
   "source": []
  },
  {
   "cell_type": "code",
   "execution_count": null,
   "id": "e14a7266",
   "metadata": {},
   "outputs": [],
   "source": []
  },
  {
   "cell_type": "code",
   "execution_count": null,
   "id": "92cc664c",
   "metadata": {},
   "outputs": [],
   "source": []
  },
  {
   "cell_type": "markdown",
   "id": "48d3785f",
   "metadata": {},
   "source": [
    "### B.2 Canny edge detection\n",
    "---\n",
    "Phát hiện biên Canny do John Canny khởi xướng vào năm 1986. Là thuật toán được sử dụng phổ biến và hiệu quả trong việc xác định biên.\n",
    "\n",
    "**cv2.Canny(image, T_lower, T_upper, aperture_size, L2Gradient)**\n",
    "\n",
    "Trong đó:\n",
    "1. Image: Input image to which Canny filter will be applied\n",
    "2. T_lower: Lower threshold value in Hysteresis Thresholding\n",
    "3. T_upper: Upper threshold value in Hysteresis Thresholding\n",
    "4. aperture_size: Aperture size of the Sobel filter.\n",
    "5. L2Gradient: Boolean parameter used for more precision in calculating Edge Gradient.\n",
    "\n",
    "\n",
    "https://docs.opencv.org/3.4/da/d22/tutorial_py_canny.html"
   ]
  },
  {
   "cell_type": "code",
   "execution_count": null,
   "id": "7cb3dd60",
   "metadata": {},
   "outputs": [],
   "source": []
  },
  {
   "cell_type": "code",
   "execution_count": null,
   "id": "2d92f09b",
   "metadata": {},
   "outputs": [],
   "source": [
    "#Đọc ảnh pic_apple.jpeg ở chế độ ảnh xám:\n",
    "img_orignal = \n",
    "\n",
    "\n",
    "#Hiển thị ảnh gốc:\n"
   ]
  },
  {
   "cell_type": "code",
   "execution_count": null,
   "id": "6b9b9105",
   "metadata": {},
   "outputs": [],
   "source": [
    "#Làm trơn với phương pháp Gaussian:\n",
    "img_b = cv2.GaussianBlur(img_orignal,(5,5),0)\n",
    "\n",
    "#Sử dụng phương thức canny:\n",
    "img_canny1 = cv2.Canny(img_b, 20,80,5)\n",
    "img_canny2 = cv2.Canny(img_b, 80,170,5)\n",
    "\n",
    "#Hiển thị kết quả:\n",
    "plt.figure(figsize=(15,5))\n",
    "plt.subplot(1, 3, 1)\n",
    "\n",
    "plt.imshow(img_b,cmap='gray')\n",
    "plt.title('Ảnh gốc')\n",
    "\n",
    "plt.subplot(1, 3, 2)\n",
    "plt.imshow(img_canny1,cmap='gray')\n",
    "plt.title('Biên với Canny1 ')\n",
    "\n",
    "plt.subplot(1, 3, 3)\n",
    "plt.imshow(img_canny2,cmap='gray')\n",
    "plt.title('Biên với Canny2')\n",
    "\n",
    "plt.show()"
   ]
  },
  {
   "cell_type": "code",
   "execution_count": null,
   "id": "7f76a417",
   "metadata": {},
   "outputs": [],
   "source": []
  },
  {
   "cell_type": "code",
   "execution_count": null,
   "id": "4274a547",
   "metadata": {},
   "outputs": [],
   "source": [
    "#Tự động xác định ngưỡng - Auto canny:\n",
    "sigma = 1.1\n",
    "median = np.median(img_b)\n",
    "lower = int(max(0,(1.0-sigma)*median))\n",
    "upper = int(min(255,(1.0+sigma)*median))\n",
    "auto_canny = cv2.Canny(img_b,lower,upper,9)\n",
    "\n",
    "#Hiển thị kết quả:\n",
    "plt.figure(figsize=(15,5))\n",
    "plt.subplot(1, 2, 1)\n",
    "\n",
    "plt.imshow(img_orignal,cmap='gray')\n",
    "plt.title('Ảnh gốc')\n",
    "\n",
    "plt.subplot(1, 2, 2)\n",
    "plt.imshow(auto_canny,cmap='gray')\n",
    "plt.title('Ảnh cạnh, biên với Canny')\n",
    "\n",
    "plt.show()"
   ]
  },
  {
   "cell_type": "code",
   "execution_count": null,
   "id": "4f7e54a7",
   "metadata": {},
   "outputs": [],
   "source": []
  },
  {
   "cell_type": "code",
   "execution_count": null,
   "id": "83e7af51",
   "metadata": {},
   "outputs": [],
   "source": []
  },
  {
   "cell_type": "code",
   "execution_count": null,
   "id": "b9af805c",
   "metadata": {},
   "outputs": [],
   "source": [
    "#Tác dụng của làm mịn khi lấy biên ảnh:\n",
    "img_1 = cv2.imread('images/Thuchanh3_2.jpeg',0)\n",
    "\n",
    "\n",
    "#Sử dụng phương thức canny trên ảnh gốc\n",
    "img_edge1 = cv2.Canny(img_1, 80,100)\n",
    "\n",
    "#làm mịn với Gaussian:\n",
    "img_2 = cv2.GaussianBlur(img_1,(7,7),0,0)\n",
    "#sử dụng phương thức canny trên ảnh sau khi làm mịn\n",
    "img_edge2 = cv2.Canny(img_2, 80,100)\n",
    "\n",
    "#Hiển thị ảnh gốc và ảnh thay đổi kích thước\n",
    "plt.figure(figsize=(15,5))\n",
    "plt.subplot(1, 3, 1)\n",
    "plt.imshow(img_1,cmap='gray')\n",
    "plt.title('Ảnh gốc')\n",
    "\n",
    "plt.subplot(1, 3, 2)\n",
    "plt.imshow(img_edge1,cmap='gray')\n",
    "plt.title('Canny không sử dụng Gaussian')\n",
    "\n",
    "plt.subplot(1, 3, 3)\n",
    "plt.imshow(img_edge2,cmap='gray')\n",
    "plt.title('Canny với Gaussian')\n",
    "\n",
    "plt.show()"
   ]
  },
  {
   "cell_type": "code",
   "execution_count": null,
   "id": "c45dee53",
   "metadata": {},
   "outputs": [],
   "source": []
  },
  {
   "cell_type": "markdown",
   "id": "dc39e6da",
   "metadata": {},
   "source": [
    "# THỰC HÀNH 3.4\n",
    "---\n",
    "1. Đọc và hiển thị ảnh Thuchanh3_4.jpeg.\n",
    "2. Sử dụng phương pháp Canny với các tham số phù hợp để thu được kết quả biên như trong slide.\n",
    "\n",
    "<img src='images/Thuchanh3_4.jpeg' width='400px'>\n"
   ]
  },
  {
   "cell_type": "code",
   "execution_count": null,
   "id": "f5cbe21f",
   "metadata": {},
   "outputs": [],
   "source": [
    "#{HỌC VIÊN VIẾT CODE Ở ĐÂY}\n",
    "\n",
    "\n",
    "\n",
    "\n"
   ]
  },
  {
   "cell_type": "code",
   "execution_count": null,
   "id": "3f0656e4",
   "metadata": {},
   "outputs": [],
   "source": []
  },
  {
   "cell_type": "code",
   "execution_count": null,
   "id": "42ba2501",
   "metadata": {},
   "outputs": [],
   "source": []
  }
 ],
 "metadata": {
  "kernelspec": {
   "display_name": "Python 3 (ipykernel)",
   "language": "python",
   "name": "python3"
  },
  "language_info": {
   "codemirror_mode": {
    "name": "ipython",
    "version": 3
   },
   "file_extension": ".py",
   "mimetype": "text/x-python",
   "name": "python",
   "nbconvert_exporter": "python",
   "pygments_lexer": "ipython3",
   "version": "3.11.5"
  }
 },
 "nbformat": 4,
 "nbformat_minor": 5
}
